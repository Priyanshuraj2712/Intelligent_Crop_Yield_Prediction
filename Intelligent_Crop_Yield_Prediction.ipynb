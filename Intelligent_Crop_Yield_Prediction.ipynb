{
 "cells": [
  {
   "cell_type": "markdown",
   "id": "b8b025e5-486c-4065-88a3-c692052e42cb",
   "metadata": {},
   "source": [
    "## Importing Required Libraries"
   ]
  },
  {
   "cell_type": "code",
   "execution_count": 20,
   "id": "b7eb0e4d-54b9-46c2-b103-7d24984879a4",
   "metadata": {},
   "outputs": [],
   "source": [
    "import pandas as pd\n",
    "import numpy as np\n",
    "from sklearn.preprocessing import StandardScaler, LabelEncoder\n",
    "from sklearn.model_selection import train_test_split\n",
    "from sklearn.linear_model import LogisticRegression\n",
    "from sklearn.ensemble import RandomForestClassifier\n",
    "from sklearn.svm import SVC\n",
    "from sklearn.tree import DecisionTreeClassifier\n",
    "from sklearn.naive_bayes import GaussianNB\n",
    "from sklearn.neighbors import KNeighborsClassifier\n",
    "from sklearn.metrics import classification_report, accuracy_score, confusion_matrix\n",
    "import seaborn as sns\n",
    "import matplotlib.pyplot as plt"
   ]
  },
  {
   "cell_type": "markdown",
   "id": "57f8e52c-fd63-42b4-908d-ca83001c27d8",
   "metadata": {},
   "source": [
    "### Load the Datasets"
   ]
  },
  {
   "cell_type": "code",
   "execution_count": 21,
   "id": "a755e393-1b5f-4ab2-88ef-2c28fdfd193b",
   "metadata": {},
   "outputs": [],
   "source": [
    "crop_yield = pd.read_csv(\"Crop_yield.csv\")\n",
    "crop_recommendation = pd.read_csv(\"Crop_Recommendation.csv\")"
   ]
  },
  {
   "cell_type": "markdown",
   "id": "1b100836-ed99-4507-b0c8-32b106257385",
   "metadata": {},
   "source": [
    "### Analyzing the Datasets"
   ]
  },
  {
   "cell_type": "code",
   "execution_count": 22,
   "id": "2dda438d-0c8a-4baa-b11b-bd4ca4149dd1",
   "metadata": {},
   "outputs": [
    {
     "name": "stdout",
     "output_type": "stream",
     "text": [
      "|    | Crop         |   Crop_Year | Season     | State   |   Area |   Production |   Annual_Rainfall |       Fertilizer |   Pesticide |       Yield |\n",
      "|---:|:-------------|------------:|:-----------|:--------|-------:|-------------:|------------------:|-----------------:|------------:|------------:|\n",
      "|  0 | Arecanut     |        1997 | Whole Year | Assam   |  73814 |        56708 |            2051.4 |      7.02488e+06 |    22882.3  |    0.796087 |\n",
      "|  1 | Arhar/Tur    |        1997 | Kharif     | Assam   |   6637 |         4685 |            2051.4 | 631643           |     2057.47 |    0.710435 |\n",
      "|  2 | Castor seed  |        1997 | Kharif     | Assam   |    796 |           22 |            2051.4 |  75755.3         |      246.76 |    0.238333 |\n",
      "|  3 | Coconut      |        1997 | Whole Year | Assam   |  19656 |    126905000 |            2051.4 |      1.87066e+06 |     6093.36 | 5238.05     |\n",
      "|  4 | Cotton(lint) |        1997 | Kharif     | Assam   |   1739 |          794 |            2051.4 | 165501           |      539.09 |    0.420909 |\n"
     ]
    }
   ],
   "source": [
    "print(crop_yield.head().to_markdown())"
   ]
  },
  {
   "cell_type": "code",
   "execution_count": 23,
   "id": "0cf5cd3b-fd63-4749-b137-c3b35fbe4d3d",
   "metadata": {},
   "outputs": [
    {
     "name": "stdout",
     "output_type": "stream",
     "text": [
      "|    |   Nitrogen |   Phosphorus |   Potassium |   Temperature |   Humidity |   pH_Value |   Rainfall | Crop   |\n",
      "|---:|-----------:|-------------:|------------:|--------------:|-----------:|-----------:|-----------:|:-------|\n",
      "|  0 |         90 |           42 |          43 |       20.8797 |    82.0027 |    6.50299 |    202.936 | Rice   |\n",
      "|  1 |         85 |           58 |          41 |       21.7705 |    80.3196 |    7.0381  |    226.656 | Rice   |\n",
      "|  2 |         60 |           55 |          44 |       23.0045 |    82.3208 |    7.84021 |    263.964 | Rice   |\n",
      "|  3 |         74 |           35 |          40 |       26.4911 |    80.1584 |    6.9804  |    242.864 | Rice   |\n",
      "|  4 |         78 |           42 |          42 |       20.1302 |    81.6049 |    7.62847 |    262.717 | Rice   |\n"
     ]
    }
   ],
   "source": [
    "print(crop_recommendation.head().to_markdown())"
   ]
  },
  {
   "cell_type": "code",
   "execution_count": 24,
   "id": "d56fc90f-f1dc-43da-843c-46785fbc3c71",
   "metadata": {},
   "outputs": [
    {
     "name": "stdout",
     "output_type": "stream",
     "text": [
      "Number of rows and cloumns in the crop yield dataset:  (19689, 10)\n"
     ]
    }
   ],
   "source": [
    "print(\"Number of rows and cloumns in the crop yield dataset: \",crop_yield.shape)"
   ]
  },
  {
   "cell_type": "code",
   "execution_count": 25,
   "id": "6c44e8b2-f833-4f9b-8509-10eff5f94d24",
   "metadata": {},
   "outputs": [
    {
     "name": "stdout",
     "output_type": "stream",
     "text": [
      "Number of rows and cloumns in the crop recommendation dataset:  (2200, 8)\n"
     ]
    }
   ],
   "source": [
    "print(\"Number of rows and cloumns in the crop recommendation dataset: \",crop_recommendation.shape)"
   ]
  },
  {
   "cell_type": "code",
   "execution_count": 26,
   "id": "ec6feebc-36e9-4486-ad32-e8fc5ab4f051",
   "metadata": {},
   "outputs": [
    {
     "name": "stdout",
     "output_type": "stream",
     "text": [
      "Descriptive statistics crop yield dataset:  |       |   Crop_Year |             Area |       Production |   Annual_Rainfall |       Fertilizer |        Pesticide |       Yield |\n",
      "|:------|------------:|-----------------:|-----------------:|------------------:|-----------------:|-----------------:|------------:|\n",
      "| count |  19689      |  19689           |  19689           |          19689    |  19689           |  19689           | 19689       |\n",
      "| mean  |   2009.13   | 179927           |      1.64359e+07 |           1437.76 |      2.41033e+07 |  48848.4         |    79.954   |\n",
      "| std   |      6.4981 | 732829           |      2.63057e+08 |            816.91 |      9.4946e+07  | 213287           |   878.306   |\n",
      "| min   |   1997      |      0.5         |      0           |            301.3  |     54.17        |      0.09        |     0       |\n",
      "| 25%   |   2004      |   1390           |   1393           |            940.7  | 188015           |    356.7         |     0.6     |\n",
      "| 50%   |   2010      |   9317           |  13804           |           1247.6  |      1.23496e+06 |   2421.9         |     1.03    |\n",
      "| 75%   |   2015      |  75112           | 122718           |           1643.7  |      1.00038e+07 |  20041.7         |     2.38889 |\n",
      "| max   |   2020      |      5.08081e+07 |      6.326e+09   |           6552.7  |      4.83541e+09 |      1.57505e+07 | 21105       |\n"
     ]
    }
   ],
   "source": [
    "print(\"Descriptive statistics crop yield dataset: \",crop_yield.describe().to_markdown())"
   ]
  },
  {
   "cell_type": "code",
   "execution_count": 27,
   "id": "727882bb-9c13-4dbe-880a-6a946f6d2360",
   "metadata": {},
   "outputs": [
    {
     "name": "stdout",
     "output_type": "stream",
     "text": [
      "Descriptive statistics crop yield dataset:  |       |   Nitrogen |   Phosphorus |   Potassium |   Temperature |   Humidity |    pH_Value |   Rainfall |\n",
      "|:------|-----------:|-------------:|------------:|--------------:|-----------:|------------:|-----------:|\n",
      "| count |  2200      |    2200      |   2200      |    2200       |  2200      | 2200        |  2200      |\n",
      "| mean  |    50.5518 |      53.3627 |     48.1491 |      25.6162  |    71.4818 |    6.46948  |   103.464  |\n",
      "| std   |    36.9173 |      32.9859 |     50.6479 |       5.06375 |    22.2638 |    0.773938 |    54.9584 |\n",
      "| min   |     0      |       5      |      5      |       8.82567 |    14.258  |    3.50475  |    20.2113 |\n",
      "| 25%   |    21      |      28      |     20      |      22.7694  |    60.262  |    5.97169  |    64.5517 |\n",
      "| 50%   |    37      |      51      |     32      |      25.5987  |    80.4731 |    6.42505  |    94.8676 |\n",
      "| 75%   |    84.25   |      68      |     49      |      28.5617  |    89.9488 |    6.92364  |   124.268  |\n",
      "| max   |   140      |     145      |    205      |      43.6755  |    99.9819 |    9.93509  |   298.56   |\n"
     ]
    }
   ],
   "source": [
    "print(\"Descriptive statistics crop yield dataset: \",crop_recommendation.describe().to_markdown())"
   ]
  },
  {
   "cell_type": "code",
   "execution_count": 28,
   "id": "cc0f18f9-313d-4ab6-bae4-bfd0f3d9a157",
   "metadata": {},
   "outputs": [
    {
     "name": "stdout",
     "output_type": "stream",
     "text": [
      "Number of unique values in categorical cloumns in crop yield dataset:  Crop      55\n",
      "Season     6\n",
      "State     30\n",
      "dtype: int64\n"
     ]
    }
   ],
   "source": [
    "print(\"Number of unique values in categorical cloumns in crop yield dataset: \",crop_yield.select_dtypes(include=['object']).nunique())"
   ]
  },
  {
   "cell_type": "code",
   "execution_count": 29,
   "id": "60837a76-f393-4271-bc2f-33db4aaef56c",
   "metadata": {},
   "outputs": [
    {
     "name": "stdout",
     "output_type": "stream",
     "text": [
      "Number of unique values in categorical cloumns in crop recommendation dataset:  Crop    22\n",
      "dtype: int64\n"
     ]
    }
   ],
   "source": [
    "print(\"Number of unique values in categorical cloumns in crop recommendation dataset: \",crop_recommendation.select_dtypes(include=['object']).nunique())"
   ]
  },
  {
   "cell_type": "markdown",
   "id": "8124a49e-ff60-4c60-829c-d7ed3ce7ae14",
   "metadata": {},
   "source": [
    "### Crop Yield Classification"
   ]
  },
  {
   "cell_type": "code",
   "execution_count": 30,
   "id": "18820507-3e54-4d9d-9cba-df266df238d1",
   "metadata": {},
   "outputs": [],
   "source": [
    "label_enc = LabelEncoder()\n",
    "\n",
    "# Encoding categorical features in crop_yield\n",
    "crop_yield['Crop'] = label_enc.fit_transform(crop_yield['Crop'])\n",
    "crop_mapping = dict(zip(label_enc.classes_, label_enc.transform(label_enc.classes_)))\n",
    "crop_yield['Season'] = label_enc.fit_transform(crop_yield['Season'])\n",
    "season_mapping = dict(zip(label_enc.classes_, label_enc.transform(label_enc.classes_)))\n",
    "crop_yield['State'] = label_enc.fit_transform(crop_yield['State'])\n",
    "state_mapping = dict(zip(label_enc.classes_, label_enc.transform(label_enc.classes_)))\n",
    "\n",
    "# Standardize numerical features\n",
    "scaler = StandardScaler()\n",
    "crop_yield[['Area', 'Production', 'Annual_Rainfall', 'Fertilizer', 'Pesticide', 'Yield']] = scaler.fit_transform(\n",
    "    crop_yield[['Area', 'Production', 'Annual_Rainfall', 'Fertilizer', 'Pesticide', 'Yield']]\n",
    ")"
   ]
  },
  {
   "cell_type": "code",
   "execution_count": 31,
   "id": "1f993e3a-1889-407b-b62e-479fe59b3185",
   "metadata": {},
   "outputs": [],
   "source": [
    "#Convert Yield into Categories for Detection\n",
    "# Define yield categories based on percentile ranges\n",
    "crop_yield['Yield_Category'] = pd.cut(\n",
    "    crop_yield['Yield'], \n",
    "    bins=[-np.inf, -0.5, 0.5, np.inf], \n",
    "    labels=['Low', 'Medium', 'High']\n",
    ")"
   ]
  },
  {
   "cell_type": "code",
   "execution_count": 32,
   "id": "aa092691-fd97-4d8d-adf9-f7d7ddc378a6",
   "metadata": {},
   "outputs": [],
   "source": [
    "#Feature and Target Selection for Crop Yield\n",
    "X = crop_yield.drop(['Yield', 'Yield_Category'], axis=1)\n",
    "y = crop_yield['Yield_Category']"
   ]
  },
  {
   "cell_type": "code",
   "execution_count": 33,
   "id": "14aa0189-6f96-409a-9903-2937d2bb2e3c",
   "metadata": {},
   "outputs": [],
   "source": [
    "#Train-Test Split for Crop Yield Classification\n",
    "X_train, X_test, y_train, y_test = train_test_split(X, y, test_size=0.2, random_state=42)"
   ]
  },
  {
   "cell_type": "code",
   "execution_count": 34,
   "id": "540d7271-b3cb-4cf5-993a-741cc3d421f1",
   "metadata": {},
   "outputs": [
    {
     "name": "stdout",
     "output_type": "stream",
     "text": [
      "Confusion Matrix for Logistic Regression:\n",
      "[[  21   11]\n",
      " [   0 3906]]\n",
      "\n",
      "Classification Report for Logistic Regression:\n",
      "              precision    recall  f1-score   support\n",
      "\n",
      "        High       1.00      0.66      0.79        32\n",
      "      Medium       1.00      1.00      1.00      3906\n",
      "\n",
      "    accuracy                           1.00      3938\n",
      "   macro avg       1.00      0.83      0.90      3938\n",
      "weighted avg       1.00      1.00      1.00      3938\n",
      "\n",
      "\n",
      "Confusion Matrix for Random Forest Classifier:\n",
      "[[  31    1]\n",
      " [   0 3906]]\n",
      "\n",
      "Classification Report for Random Forest Classifier:\n",
      "              precision    recall  f1-score   support\n",
      "\n",
      "        High       1.00      0.97      0.98        32\n",
      "      Medium       1.00      1.00      1.00      3906\n",
      "\n",
      "    accuracy                           1.00      3938\n",
      "   macro avg       1.00      0.98      0.99      3938\n",
      "weighted avg       1.00      1.00      1.00      3938\n",
      "\n",
      "\n",
      "Confusion Matrix for Support Vector Classifier:\n",
      "[[   0   32]\n",
      " [   0 3906]]\n",
      "\n",
      "Classification Report for Support Vector Classifier:\n",
      "              precision    recall  f1-score   support\n",
      "\n",
      "        High       0.00      0.00      0.00        32\n",
      "      Medium       0.99      1.00      1.00      3906\n",
      "\n",
      "    accuracy                           0.99      3938\n",
      "   macro avg       0.50      0.50      0.50      3938\n",
      "weighted avg       0.98      0.99      0.99      3938\n",
      "\n",
      "\n",
      "Model Performance for Crop Yield Classification:\n",
      "                           Accuracy\n",
      "Logistic Regression        0.997207\n",
      "Random Forest Classifier   0.999746\n",
      "Support Vector Classifier  0.991874\n"
     ]
    },
    {
     "name": "stderr",
     "output_type": "stream",
     "text": [
      "/Library/Frameworks/Python.framework/Versions/3.12/lib/python3.12/site-packages/sklearn/metrics/_classification.py:1531: UndefinedMetricWarning: Precision is ill-defined and being set to 0.0 in labels with no predicted samples. Use `zero_division` parameter to control this behavior.\n",
      "  _warn_prf(average, modifier, f\"{metric.capitalize()} is\", len(result))\n",
      "/Library/Frameworks/Python.framework/Versions/3.12/lib/python3.12/site-packages/sklearn/metrics/_classification.py:1531: UndefinedMetricWarning: Precision is ill-defined and being set to 0.0 in labels with no predicted samples. Use `zero_division` parameter to control this behavior.\n",
      "  _warn_prf(average, modifier, f\"{metric.capitalize()} is\", len(result))\n",
      "/Library/Frameworks/Python.framework/Versions/3.12/lib/python3.12/site-packages/sklearn/metrics/_classification.py:1531: UndefinedMetricWarning: Precision is ill-defined and being set to 0.0 in labels with no predicted samples. Use `zero_division` parameter to control this behavior.\n",
      "  _warn_prf(average, modifier, f\"{metric.capitalize()} is\", len(result))\n"
     ]
    },
    {
     "data": {
      "image/png": "[encoded data removed]",
      "text/plain": [
       "<Figure size 800x500 with 1 Axes>"
      ]
     },
     "metadata": {},
     "output_type": "display_data"
    }
   ],
   "source": [
    "models = {\n",
    "    \"Logistic Regression\": LogisticRegression(max_iter=500),\n",
    "    \"Random Forest Classifier\": RandomForestClassifier(random_state=42),\n",
    "    \"Support Vector Classifier\": SVC()\n",
    "}\n",
    "\n",
    "results = {}\n",
    "\n",
    "for model_name, model in models.items():\n",
    "    # Train the model\n",
    "    model.fit(X_train, y_train)\n",
    "    \n",
    "    # Predict on the test set\n",
    "    y_pred = model.predict(X_test)\n",
    "    \n",
    "    # Evaluate the model\n",
    "    accuracy = accuracy_score(y_test, y_pred)\n",
    "    cm = confusion_matrix(y_test, y_pred)\n",
    "    print(f\"Confusion Matrix for {model_name}:\\n{cm}\\n\")\n",
    "    print(f\"Classification Report for {model_name}:\\n{classification_report(y_test, y_pred)}\\n\")\n",
    "    \n",
    "    # Store the results\n",
    "    results[model_name] = {\"Accuracy\": accuracy}\n",
    "\n",
    "# Display the results for Crop Yield Classification\n",
    "results_df = pd.DataFrame(results).T\n",
    "print(\"Model Performance for Crop Yield Classification:\")\n",
    "print(results_df)\n",
    "\n",
    "# Step 7: Plot Accuracy Comparison for Crop Yield Classification\n",
    "results_df['Accuracy'].plot(kind='bar', figsize=(8, 5))\n",
    "plt.title(\"Model Accuracy Comparison for Crop Yield Classification\")\n",
    "plt.ylabel(\"Accuracy\")\n",
    "plt.show()"
   ]
  },
  {
   "cell_type": "markdown",
   "id": "2c928277-f13c-4378-8a5e-d1e9245480d7",
   "metadata": {},
   "source": [
    "### Soil Health Classification"
   ]
  },
  {
   "cell_type": "code",
   "execution_count": 35,
   "id": "6106956c-b173-4fc2-a296-9b31c45f82c8",
   "metadata": {},
   "outputs": [
    {
     "name": "stdout",
     "output_type": "stream",
     "text": [
      "Accuracy for Soil Health Classification Model: 0.98\n",
      "Confusion Matrix for Soil Health Classification:\n",
      "[[110   5]\n",
      " [  3 322]]\n",
      "Classification Report for Soil Health Classification:\n",
      "              precision    recall  f1-score   support\n",
      "\n",
      "   Deficient       0.97      0.96      0.96       115\n",
      "     Healthy       0.98      0.99      0.99       325\n",
      "\n",
      "    accuracy                           0.98       440\n",
      "   macro avg       0.98      0.97      0.98       440\n",
      "weighted avg       0.98      0.98      0.98       440\n",
      "\n"
     ]
    },
    {
     "data": {
      "image/png": "[encoded data removed]",
      "text/plain": [
       "<Figure size 1000x600 with 1 Axes>"
      ]
     },
     "metadata": {},
     "output_type": "display_data"
    }
   ],
   "source": [
    "# For this example, we assume 'Soil_Health' is not in the dataset, so we generate it based on conditions\n",
    "crop_recommendation['Soil_Health'] = np.where(\n",
    "    (crop_recommendation['Nitrogen'] > 0.5) & (crop_recommendation['Phosphorus'] > 0.5) &\n",
    "    (crop_recommendation['Potassium'] > 0.5) & (crop_recommendation['pH_Value'] > 6), 'Healthy', 'Deficient'\n",
    ")\n",
    "\n",
    "# Features for soil health classification\n",
    "X_soil = crop_recommendation[['Nitrogen', 'Phosphorus', 'Potassium', 'pH_Value']]\n",
    "y_soil = crop_recommendation['Soil_Health']\n",
    "\n",
    "# Step 3: Train-test Split for Soil Health Classification\n",
    "X_train_soil, X_test_soil, y_train_soil, y_test_soil = train_test_split(X_soil, y_soil, test_size=0.2, random_state=42)\n",
    "\n",
    "# Step 4: Data Scaling (Standardization)\n",
    "scaler = StandardScaler()\n",
    "X_train_soil = scaler.fit_transform(X_train_soil)  # Fit and transform the training data\n",
    "X_test_soil = scaler.transform(X_test_soil)  # Transform the test data\n",
    "\n",
    "# Step 5: Logistic Regression Model for Soil Health Classification\n",
    "soil_health_model = LogisticRegression(max_iter=500)\n",
    "soil_health_model.fit(X_train_soil, y_train_soil)\n",
    "\n",
    "# Step 6: Predicting and Evaluating the Model\n",
    "y_pred_soil = soil_health_model.predict(X_test_soil)\n",
    "\n",
    "# Step 7: Evaluation Metrics\n",
    "accuracy = accuracy_score(y_test_soil, y_pred_soil)\n",
    "print(f\"Accuracy for Soil Health Classification Model: {accuracy:.2f}\")\n",
    "print(f\"Confusion Matrix for Soil Health Classification:\\n{confusion_matrix(y_test_soil, y_pred_soil)}\")\n",
    "print(f\"Classification Report for Soil Health Classification:\\n{classification_report(y_test_soil, y_pred_soil)}\")\n",
    "\n",
    "# Step 8: Plot Confusion Matrix for Soil Health\n",
    "cm_soil = confusion_matrix(y_test_soil, y_pred_soil)\n",
    "cm_soil_df = pd.DataFrame(cm_soil, index=['Deficient', 'Healthy'], columns=['Predicted Deficient', 'Predicted Healthy'])\n",
    "\n",
    "cm_soil_df.plot(kind='bar', figsize=(10, 6), stacked=True, color=['lightcoral', 'lightblue'])\n",
    "plt.title('Confusion Matrix for Soil Health Classification')\n",
    "plt.ylabel('Number of Samples')\n",
    "plt.xlabel('True Label')\n",
    "plt.xticks(rotation=0)\n",
    "plt.legend(title=\"Predicted Labels\")\n",
    "plt.show()"
   ]
  },
  {
   "cell_type": "markdown",
   "id": "a5406d8c-6c99-4606-8f35-fd40d3251cc0",
   "metadata": {},
   "source": [
    "### Fertilizer Requirement Classification"
   ]
  },
  {
   "cell_type": "code",
   "execution_count": 36,
   "id": "ab83e1a1-691b-4db2-bef9-db2fb19841f8",
   "metadata": {},
   "outputs": [
    {
     "name": "stdout",
     "output_type": "stream",
     "text": [
      "Accuracy for Fertilizer Requirement Model: 0.98\n",
      "Confusion Matrix for Fertilizer Requirement Prediction:\n",
      "[[109   6]\n",
      " [  2 323]]\n",
      "Classification Report for Fertilizer Requirement Prediction:\n",
      "              precision    recall  f1-score   support\n",
      "\n",
      "        High       0.98      0.95      0.96       115\n",
      "         Low       0.98      0.99      0.99       325\n",
      "\n",
      "    accuracy                           0.98       440\n",
      "   macro avg       0.98      0.97      0.98       440\n",
      "weighted avg       0.98      0.98      0.98       440\n",
      "\n"
     ]
    },
    {
     "data": {
      "image/png": "[encoded data removed]",
      "text/plain": [
       "<Figure size 1000x600 with 1 Axes>"
      ]
     },
     "metadata": {},
     "output_type": "display_data"
    }
   ],
   "source": [
    "# Step 9: Fertilizer Requirement Prediction based on Soil Health\n",
    "crop_recommendation['Fertilizer_Need'] = np.where(\n",
    "    (crop_recommendation['Soil_Health'] == 'Deficient'), 'High', 'Low'\n",
    ")\n",
    "\n",
    "X_fertilizer = crop_recommendation[['Nitrogen', 'Phosphorus', 'Potassium', 'Temperature', 'Humidity', 'pH_Value']]\n",
    "y_fertilizer = crop_recommendation['Fertilizer_Need']\n",
    "\n",
    "X_train_fertilizer, X_test_fertilizer, y_train_fertilizer, y_test_fertilizer = train_test_split(X_fertilizer, y_fertilizer, test_size=0.2, random_state=42)\n",
    "\n",
    "fertilizer_model = LogisticRegression(random_state=42, max_iter=500)\n",
    "fertilizer_model.fit(X_train_fertilizer, y_train_fertilizer)\n",
    "\n",
    "# Predicting and evaluating fertilizer needs\n",
    "y_pred_fertilizer = fertilizer_model.predict(X_test_fertilizer)\n",
    "print(f\"Accuracy for Fertilizer Requirement Model: {accuracy_score(y_test_fertilizer, y_pred_fertilizer):.2f}\")\n",
    "print(f\"Confusion Matrix for Fertilizer Requirement Prediction:\\n{confusion_matrix(y_test_fertilizer, y_pred_fertilizer)}\")\n",
    "print(f\"Classification Report for Fertilizer Requirement Prediction:\\n{classification_report(y_test_fertilizer, y_pred_fertilizer)}\")\n",
    "\n",
    "cm_fertilizer = confusion_matrix(y_test_fertilizer, y_pred_fertilizer)\n",
    "cm_fertilizer_df = pd.DataFrame(cm_fertilizer, index=['Low', 'High'], columns=['Predicted Low', 'Predicted High'])\n",
    "\n",
    "cm_fertilizer_df.plot(kind='bar', figsize=(10, 6), stacked=True, color=['lightcoral', 'lightblue'])\n",
    "plt.title('Confusion Matrix for Fertilizer Requirement Prediction')\n",
    "plt.ylabel('Number of Samples')\n",
    "plt.xlabel('True Label')\n",
    "plt.xticks(rotation=0)\n",
    "plt.legend(title=\"Predicted Labels\")\n",
    "plt.show()\n"
   ]
  },
  {
   "cell_type": "markdown",
   "id": "8590ac31-d93c-41a1-9da2-58d7b535aca2",
   "metadata": {},
   "source": [
    "### Prediction of different Classifires"
   ]
  },
  {
   "cell_type": "code",
   "execution_count": 37,
   "id": "f3857193-246b-463a-aa77-4e87dfa8d11f",
   "metadata": {},
   "outputs": [
    {
     "name": "stdout",
     "output_type": "stream",
     "text": [
      "Predicted Crop Yield for 'Rice': Medium\n",
      "Predicted Soil Health: Healthy\n",
      "Predicted Fertilizer Need: Low\n"
     ]
    },
    {
     "name": "stderr",
     "output_type": "stream",
     "text": [
      "/Library/Frameworks/Python.framework/Versions/3.12/lib/python3.12/site-packages/sklearn/base.py:493: UserWarning: X does not have valid feature names, but StandardScaler was fitted with feature names\n",
      "  warnings.warn(\n",
      "/Library/Frameworks/Python.framework/Versions/3.12/lib/python3.12/site-packages/sklearn/base.py:493: UserWarning: X does not have valid feature names, but RandomForestClassifier was fitted with feature names\n",
      "  warnings.warn(\n",
      "/Library/Frameworks/Python.framework/Versions/3.12/lib/python3.12/site-packages/sklearn/base.py:493: UserWarning: X does not have valid feature names, but LogisticRegression was fitted with feature names\n",
      "  warnings.warn(\n"
     ]
    }
   ],
   "source": [
    "def detect_crop_yield_and_soil_health(\n",
    "    crop, area, production, fertilizer, pesticide, \n",
    "    nitrogen, phosphorus, potassium, pH, season, state, annual_rainfall\n",
    "):\n",
    "    # Input validation\n",
    "    if crop not in crop_mapping:\n",
    "        print(f\"Error: Crop '{crop}' not recognized. Please provide a valid crop.\")\n",
    "        return\n",
    "    if season not in season_mapping:\n",
    "        print(f\"Error: Season '{season}' not recognized. Please provide a valid season.\")\n",
    "        return\n",
    "    if state not in state_mapping:\n",
    "        print(f\"Error: State '{state}' not recognized. Please provide a valid state.\")\n",
    "        return\n",
    "\n",
    "    # Encode categorical features\n",
    "    crop_encoded = crop_mapping[crop]\n",
    "    season_encoded = season_mapping[season]\n",
    "    state_encoded = state_mapping[state]\n",
    "\n",
    "    # Prepare the input features\n",
    "    features = np.array([\n",
    "        [crop_encoded, area, production, fertilizer, pesticide, annual_rainfall, season_encoded, state_encoded, pH]\n",
    "    ])\n",
    "\n",
    "    # Scale numerical features (ensure scaler was fitted with these columns only)\n",
    "    numerical_features = features[:, 1:5]  # Extract numerical features for scaling\n",
    "    try:\n",
    "        numerical_features_scaled = scaler.transform(numerical_features)\n",
    "    except ValueError as e:\n",
    "        print(f\"Error scaling features: {e}. Check if the scaler is correctly fitted.\")\n",
    "        return\n",
    "\n",
    "    # Reshape annual_rainfall for concatenation\n",
    "    annual_rainfall_array = np.array([[annual_rainfall]])\n",
    "\n",
    "    # Combine all features into the final scaled feature set\n",
    "    features_scaled = np.hstack((\n",
    "        features[:, :1],                # Crop (encoded)\n",
    "        features[:, 6:8],               # Season and State (encoded)\n",
    "        numerical_features_scaled,      # Scaled numerical features\n",
    "        annual_rainfall_array,          # Annual Rainfall\n",
    "        features[:, 8:9]                # Soil pH\n",
    "    ))\n",
    "\n",
    "    # Ensure the shape of the feature set is correct\n",
    "    if features_scaled.shape[1] != 9:\n",
    "        print(\"Error: Feature set does not have the expected shape.\")\n",
    "        return\n",
    "\n",
    "    # Predict crop yield\n",
    "    try:\n",
    "        crop_yield_prediction = models[\"Random Forest Classifier\"].predict(features_scaled)[0]\n",
    "        print(f\"Predicted Crop Yield for '{crop}': {crop_yield_prediction}\")\n",
    "    except Exception as e:\n",
    "        print(f\"Error in predicting crop yield: {e}\")\n",
    "        return\n",
    "\n",
    "    # Predict soil health\n",
    "    try:\n",
    "        soil_health_prediction = soil_health_model.predict([[nitrogen, phosphorus, potassium, pH]])[0]\n",
    "        print(f\"Predicted Soil Health: {soil_health_prediction}\")\n",
    "    except Exception as e:\n",
    "        print(f\"Error in predicting soil health: {e}\")\n",
    "        return\n",
    "\n",
    "    # Predict fertilizer needs\n",
    "    try:\n",
    "        fertilizer_need_prediction = fertilizer_model.predict([[nitrogen, phosphorus, potassium, fertilizer, pesticide, pH]])[0]\n",
    "        print(f\"Predicted Fertilizer Need: {fertilizer_need_prediction}\")\n",
    "    except Exception as e:\n",
    "        print(f\"Error in predicting fertilizer need: {e}\")\n",
    "        return\n",
    "\n",
    "# Refit scaler if necessary\n",
    "# Example: scaler.fit(training_data[[\"area\", \"production\", \"fertilizer\", \"pesticide\"]])\n",
    "# Example use with a valid crop\n",
    "detect_crop_yield_and_soil_health(\n",
    "    crop=\"Rice\",  \n",
    "    area=1500,\n",
    "    production=2000,\n",
    "    fertilizer=45,\n",
    "    pesticide=30,\n",
    "    nitrogen=0.8,\n",
    "    phosphorus=0.7,\n",
    "    potassium=0.6,\n",
    "    pH=6.5,\n",
    "    season=\"Rabi\",\n",
    "    state='Uttar Pradesh',\n",
    "    annual_rainfall=1000\n",
    ")"
   ]
  },
  {
   "cell_type": "code",
   "execution_count": null,
   "id": "419a29df-8c25-4aea-aa14-049ef35e7012",
   "metadata": {},
   "outputs": [],
   "source": []
  }
 ],
 "metadata": {
  "kernelspec": {
   "display_name": "Python 3 (ipykernel)",
   "language": "python",
   "name": "python3"
  },
  "language_info": {
   "codemirror_mode": {
    "name": "ipython",
    "version": 3
   },
   "file_extension": ".py",
   "mimetype": "text/x-python",
   "name": "python",
   "nbconvert_exporter": "python",
   "pygments_lexer": "ipython3",
   "version": "3.12.7"
  }
 },
 "nbformat": 4,
 "nbformat_minor": 5
}
